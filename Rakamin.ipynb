{
 "cells": [
  {
   "cell_type": "code",
   "execution_count": 8,
   "metadata": {},
   "outputs": [],
   "source": [
    "import pandas as pd\n",
    "# Mengimpor data\n",
    "customers = pd.read_excel('D:/Rakamin/Customers.xlsx')\n",
    "orders = pd.read_excel('D:/Rakamin/Orders.xlsx')\n",
    "products = pd.read_excel('D:/Rakamin/Products.xlsx')\n",
    "categories = pd.read_excel('D:/Rakamin/ProductCategory.xlsx')"
   ]
  },
  {
   "cell_type": "code",
   "execution_count": 11,
   "metadata": {},
   "outputs": [
    {
     "name": "stdout",
     "output_type": "stream",
     "text": [
      "  order_date    category_name            product_name  product_price  \\\n",
      "0 2020-01-01           eBooks            Polar Robots          23.99   \n",
      "1 2020-01-01           Robots            RWW-75 Robot         883.00   \n",
      "2 2020-01-01  Training Videos  Drone Video Techniques          37.99   \n",
      "3 2020-01-01       Drone Kits                BYOD-220          69.00   \n",
      "4 2020-01-01           eBooks            SCARA Robots          19.50   \n",
      "\n",
      "   order_qty  total_sales                                         cust_email  \\\n",
      "0          2        47.98  fvaslerqt@comsenz.com#mailto:fvaslerqt@comsenz...   \n",
      "1          3      2649.00  tmckernot@tinyurl.com#mailto:tmckernot@tinyurl...   \n",
      "2          6       227.94  gstiggersdd@eventbrite.com#mailto:gstiggersdd@...   \n",
      "3          1        69.00                  edew@nba.com#mailto:edew@nba.com#   \n",
      "4          5        97.50        llespercx@com.com#mailto:llespercx@com.com#   \n",
      "\n",
      "          cust_city  \n",
      "0           Jackson  \n",
      "1              Katy  \n",
      "2  Saint Petersburg  \n",
      "3          Honolulu  \n",
      "4        Des Moines  \n"
     ]
    }
   ],
   "source": [
    "\n",
    "# Melakukan merging\n",
    "orders_products = pd.merge(orders, products, left_on='ProdNumber', right_on='ProdNumber')\n",
    "orders_products_category = pd.merge(orders_products, categories, left_on='Category', right_on='CategoryID')\n",
    "master_table = pd.merge(orders_products_category, customers, left_on='CustomerID', right_on='CustomerID')\n",
    "\n",
    "# Hitung TotalSales \n",
    "master_table['TotalSales'] = master_table['Price'] * master_table['Quantity']\n",
    "\n",
    "# Mengonversi 'Date' ke format datetime untuk sorting\n",
    "master_table['Date'] = pd.to_datetime(master_table['Date'])\n",
    "\n",
    "# Urutkan data berdasarkan tanggal transaksi dari yang paling awal ke akhir\n",
    "master_table = master_table.sort_values(by='Date', ascending=True)\n",
    "\n",
    "# Menyesuaikan urutan kolom\n",
    "master_table = master_table[['Date', 'CategoryName', 'ProdName', 'Price', 'Quantity', 'TotalSales', 'CustomerEmail', 'CustomerCity']]\n",
    "\n",
    "# Rename kolom \n",
    "master_table.columns = [\n",
    "    'order_date', 'category_name', 'product_name', 'product_price', \n",
    "    'order_qty', 'total_sales', 'cust_email', 'cust_city'\n",
    "]\n",
    "\n",
    "# Tampilkan hasil\n",
    "print(master_table.head())"
   ]
  },
  {
   "cell_type": "code",
   "execution_count": 10,
   "metadata": {},
   "outputs": [
    {
     "name": "stdout",
     "output_type": "stream",
     "text": [
      "Index(['order_date', 'category_name', 'product_name', 'product_price',\n",
      "       'order_qty', 'total_sales', 'cust_email', 'cust_city'],\n",
      "      dtype='object')\n"
     ]
    }
   ],
   "source": [
    "print(master_table.columns)\n"
   ]
  },
  {
   "cell_type": "code",
   "execution_count": null,
   "metadata": {},
   "outputs": [],
   "source": [
    "with pd.ExcelWriter(\"D:/Rakamin/master_table.xlsx\", engine=\"xlsxwriter\") as writer:\n",
    "    master_table.to_excel(writer, sheet_name=\"Master Data\", index=False)\n",
    "\n",
    "    # Auto-fit kolom\n",
    "    workbook = writer.book\n",
    "    worksheet = writer.sheets[\"Master Data\"]\n",
    "    for col_num, value in enumerate(master_table.columns.values):\n",
    "        worksheet.set_column(col_num, col_num, len(value) + 2)  # Menyesuaikan lebar kolom\n"
   ]
  },
  {
   "cell_type": "markdown",
   "metadata": {},
   "source": []
  }
 ],
 "metadata": {
  "kernelspec": {
   "display_name": "Python 3",
   "language": "python",
   "name": "python3"
  },
  "language_info": {
   "codemirror_mode": {
    "name": "ipython",
    "version": 3
   },
   "file_extension": ".py",
   "mimetype": "text/x-python",
   "name": "python",
   "nbconvert_exporter": "python",
   "pygments_lexer": "ipython3",
   "version": "3.11.2"
  }
 },
 "nbformat": 4,
 "nbformat_minor": 2
}
